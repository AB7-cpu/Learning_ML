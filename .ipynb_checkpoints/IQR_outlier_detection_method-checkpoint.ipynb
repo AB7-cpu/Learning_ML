{
 "cells": [
  {
   "cell_type": "code",
   "execution_count": 1,
   "id": "96e7ba46-2c31-4bce-a6f4-245b101fded8",
   "metadata": {},
   "outputs": [],
   "source": [
    "import pandas as pd\n",
    "import numpy as np"
   ]
  },
  {
   "cell_type": "code",
   "execution_count": 2,
   "id": "0d5609d6-84e1-4a92-918f-a558a5a3dbd2",
   "metadata": {},
   "outputs": [],
   "source": [
    "df = pd.read_csv(\"dataset/placement.csv\")"
   ]
  },
  {
   "cell_type": "code",
   "execution_count": 3,
   "id": "f579dc51-83f2-4dba-9704-5ea4729b7624",
   "metadata": {},
   "outputs": [],
   "source": [
    "#Find 25th and 75th percentile values\n",
    "\n",
    "percentile25 = df[\"placement_exam_marks\"].quantile(0.25)\n",
    "percentile75 = df[\"placement_exam_marks\"].quantile(0.75)"
   ]
  },
  {
   "cell_type": "code",
   "execution_count": 4,
   "id": "e41b07fc-9c51-4069-bd1a-d34e827bca2c",
   "metadata": {},
   "outputs": [
    {
     "data": {
      "text/plain": [
       "np.float64(17.0)"
      ]
     },
     "execution_count": 4,
     "metadata": {},
     "output_type": "execute_result"
    }
   ],
   "source": [
    "percentile25"
   ]
  },
  {
   "cell_type": "code",
   "execution_count": 5,
   "id": "1ca90019-cab7-4cde-aebe-1289f8c4eb73",
   "metadata": {},
   "outputs": [
    {
     "data": {
      "text/plain": [
       "np.float64(44.0)"
      ]
     },
     "execution_count": 5,
     "metadata": {},
     "output_type": "execute_result"
    }
   ],
   "source": [
    "percentile75"
   ]
  },
  {
   "cell_type": "code",
   "execution_count": 6,
   "id": "e3095c1c-ee90-4e7c-a5d4-5d54ad319d0f",
   "metadata": {},
   "outputs": [
    {
     "data": {
      "text/plain": [
       "np.float64(27.0)"
      ]
     },
     "execution_count": 6,
     "metadata": {},
     "output_type": "execute_result"
    }
   ],
   "source": [
    "#Find IQR\n",
    "\n",
    "iqr = percentile75-percentile25\n",
    "iqr"
   ]
  },
  {
   "cell_type": "code",
   "execution_count": 7,
   "id": "5896cd8c-2297-45ba-9d77-c9aec7da3b01",
   "metadata": {},
   "outputs": [],
   "source": [
    "lower_limit = percentile25 - (1.5*iqr)\n",
    "upper_limit = percentile75 + (1.5*iqr)"
   ]
  },
  {
   "cell_type": "code",
   "execution_count": 8,
   "id": "eda7742e-12ad-4a30-840a-3798bc5c0e75",
   "metadata": {},
   "outputs": [
    {
     "name": "stdout",
     "output_type": "stream",
     "text": [
      "Lower_limit: -23.5\n",
      "Upper_limit: 84.5\n"
     ]
    }
   ],
   "source": [
    "print(\"Lower_limit:\", lower_limit)\n",
    "print(\"Upper_limit:\", upper_limit)"
   ]
  },
  {
   "cell_type": "markdown",
   "id": "5c71d417-920d-45e5-8995-35f3cd00ed91",
   "metadata": {},
   "source": [
    "**Trimming**"
   ]
  },
  {
   "cell_type": "code",
   "execution_count": 9,
   "id": "5b1e9a04-bd00-4c73-921b-f5cd5f28be03",
   "metadata": {},
   "outputs": [],
   "source": [
    "#Trimming\n",
    "\n",
    "new_df = df[(df[\"placement_exam_marks\"]<upper_limit) & (df[\"placement_exam_marks\"]>lower_limit)]"
   ]
  },
  {
   "cell_type": "code",
   "execution_count": 10,
   "id": "522e3ff2-9c7b-4f53-921d-458ee5fad77f",
   "metadata": {},
   "outputs": [
    {
     "data": {
      "text/plain": [
       "(985, 3)"
      ]
     },
     "execution_count": 10,
     "metadata": {},
     "output_type": "execute_result"
    }
   ],
   "source": [
    "new_df.shape"
   ]
  },
  {
   "cell_type": "markdown",
   "id": "60fc69f9-1e58-48b3-aec6-75f26793934c",
   "metadata": {},
   "source": [
    "**Capping**"
   ]
  },
  {
   "cell_type": "code",
   "execution_count": 11,
   "id": "284d6ce6-18c9-47fb-a576-3f9db3bda5cb",
   "metadata": {},
   "outputs": [],
   "source": [
    "#Capping\n",
    "\n",
    "df[\"placement_exam_marks\"] = np.where(\n",
    "    df[\"placement_exam_marks\"]>upper_limit,\n",
    "    upper_limit,\n",
    "    np.where(\n",
    "        df[\"placement_exam_marks\"]<lower_limit,\n",
    "        lower_limit,\n",
    "        df[\"placement_exam_marks\"]\n",
    "    )\n",
    ")"
   ]
  },
  {
   "cell_type": "code",
   "execution_count": 12,
   "id": "7fba1968-4d6c-4617-839b-201591f199c9",
   "metadata": {},
   "outputs": [
    {
     "data": {
      "text/html": [
       "<div>\n",
       "<style scoped>\n",
       "    .dataframe tbody tr th:only-of-type {\n",
       "        vertical-align: middle;\n",
       "    }\n",
       "\n",
       "    .dataframe tbody tr th {\n",
       "        vertical-align: top;\n",
       "    }\n",
       "\n",
       "    .dataframe thead th {\n",
       "        text-align: right;\n",
       "    }\n",
       "</style>\n",
       "<table border=\"1\" class=\"dataframe\">\n",
       "  <thead>\n",
       "    <tr style=\"text-align: right;\">\n",
       "      <th></th>\n",
       "      <th>cgpa</th>\n",
       "      <th>placement_exam_marks</th>\n",
       "      <th>placed</th>\n",
       "    </tr>\n",
       "  </thead>\n",
       "  <tbody>\n",
       "  </tbody>\n",
       "</table>\n",
       "</div>"
      ],
      "text/plain": [
       "Empty DataFrame\n",
       "Columns: [cgpa, placement_exam_marks, placed]\n",
       "Index: []"
      ]
     },
     "execution_count": 12,
     "metadata": {},
     "output_type": "execute_result"
    }
   ],
   "source": [
    "df[df[\"placement_exam_marks\"]>upper_limit] #As we can see now there are no outliers"
   ]
  },
  {
   "cell_type": "code",
   "execution_count": 13,
   "id": "6e99e8cc-9a19-412f-af24-0fcb015f30df",
   "metadata": {},
   "outputs": [
    {
     "data": {
      "text/plain": [
       "(1000, 3)"
      ]
     },
     "execution_count": 13,
     "metadata": {},
     "output_type": "execute_result"
    }
   ],
   "source": [
    "df.shape #We can see we still have all the 1000 rows but no outliers..."
   ]
  },
  {
   "cell_type": "code",
   "execution_count": null,
   "id": "c419b2e4-2752-4d73-9b6e-435c18125930",
   "metadata": {},
   "outputs": [],
   "source": []
  }
 ],
 "metadata": {
  "kernelspec": {
   "display_name": "Python 3 (ipykernel)",
   "language": "python",
   "name": "python3"
  },
  "language_info": {
   "codemirror_mode": {
    "name": "ipython",
    "version": 3
   },
   "file_extension": ".py",
   "mimetype": "text/x-python",
   "name": "python",
   "nbconvert_exporter": "python",
   "pygments_lexer": "ipython3",
   "version": "3.10.11"
  }
 },
 "nbformat": 4,
 "nbformat_minor": 5
}
